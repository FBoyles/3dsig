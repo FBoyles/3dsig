{
 "cells": [
  {
   "cell_type": "markdown",
   "metadata": {},
   "source": [
    "# Collaborative structural biology using machine learning and Jupyter notebook\n",
    "##    Fergus Boyles and Fergus Imrie\n",
    "##    *Department of Statistics, University of Oxford*"
   ]
  },
  {
   "cell_type": "code",
   "execution_count": 1,
   "metadata": {
    "collapsed": true
   },
   "outputs": [],
   "source": [
    "import numpy as np\n",
    "import pandas as pd\n",
    "import seaborn as sns\n",
    "\n",
    "import matplotlib.pyplot as plt\n",
    "#%matplotlib inline"
   ]
  },
  {
   "cell_type": "markdown",
   "metadata": {},
   "source": [
    "_Load and look:_ Can directly load data from csv using pandas. Don't forget to look at your data!\n",
    "\n",
    "Should explain what our dataset is, and probably what the features are."
   ]
  },
  {
   "cell_type": "code",
   "execution_count": 2,
   "metadata": {},
   "outputs": [
    {
     "data": {
      "text/html": [
       "<div>\n",
       "<style scoped>\n",
       "    .dataframe tbody tr th:only-of-type {\n",
       "        vertical-align: middle;\n",
       "    }\n",
       "\n",
       "    .dataframe tbody tr th {\n",
       "        vertical-align: top;\n",
       "    }\n",
       "\n",
       "    .dataframe thead th {\n",
       "        text-align: right;\n",
       "    }\n",
       "</style>\n",
       "<table border=\"1\" class=\"dataframe\">\n",
       "  <thead>\n",
       "    <tr style=\"text-align: right;\">\n",
       "      <th></th>\n",
       "      <th>Target</th>\n",
       "      <th>Template</th>\n",
       "      <th>Target_Length</th>\n",
       "      <th>Template_Length</th>\n",
       "      <th>Contact_PPV</th>\n",
       "      <th>Contact_TP</th>\n",
       "      <th>Contact_P</th>\n",
       "      <th>Contact_All</th>\n",
       "      <th>Neff</th>\n",
       "      <th>SeqID</th>\n",
       "      <th>Label</th>\n",
       "    </tr>\n",
       "  </thead>\n",
       "  <tbody>\n",
       "    <tr>\n",
       "      <th>0</th>\n",
       "      <td>d12asa_</td>\n",
       "      <td>d1yfsa2</td>\n",
       "      <td>328</td>\n",
       "      <td>237</td>\n",
       "      <td>4.65</td>\n",
       "      <td>2</td>\n",
       "      <td>43</td>\n",
       "      <td>101</td>\n",
       "      <td>2676</td>\n",
       "      <td>0.177</td>\n",
       "      <td>Fam</td>\n",
       "    </tr>\n",
       "    <tr>\n",
       "      <th>1</th>\n",
       "      <td>d12asa_</td>\n",
       "      <td>d1eova2</td>\n",
       "      <td>328</td>\n",
       "      <td>354</td>\n",
       "      <td>22.99</td>\n",
       "      <td>20</td>\n",
       "      <td>87</td>\n",
       "      <td>101</td>\n",
       "      <td>2676</td>\n",
       "      <td>0.223</td>\n",
       "      <td>Fam</td>\n",
       "    </tr>\n",
       "    <tr>\n",
       "      <th>2</th>\n",
       "      <td>d12asa_</td>\n",
       "      <td>d1b8aa2</td>\n",
       "      <td>328</td>\n",
       "      <td>336</td>\n",
       "      <td>22.22</td>\n",
       "      <td>20</td>\n",
       "      <td>90</td>\n",
       "      <td>101</td>\n",
       "      <td>2676</td>\n",
       "      <td>0.220</td>\n",
       "      <td>Fam</td>\n",
       "    </tr>\n",
       "    <tr>\n",
       "      <th>3</th>\n",
       "      <td>d12asa_</td>\n",
       "      <td>d1l0wa3</td>\n",
       "      <td>328</td>\n",
       "      <td>357</td>\n",
       "      <td>20.00</td>\n",
       "      <td>17</td>\n",
       "      <td>85</td>\n",
       "      <td>101</td>\n",
       "      <td>2676</td>\n",
       "      <td>0.235</td>\n",
       "      <td>Fam</td>\n",
       "    </tr>\n",
       "    <tr>\n",
       "      <th>4</th>\n",
       "      <td>d12asa_</td>\n",
       "      <td>d1z7ma1</td>\n",
       "      <td>328</td>\n",
       "      <td>312</td>\n",
       "      <td>1.27</td>\n",
       "      <td>1</td>\n",
       "      <td>79</td>\n",
       "      <td>101</td>\n",
       "      <td>2676</td>\n",
       "      <td>0.211</td>\n",
       "      <td>Fam</td>\n",
       "    </tr>\n",
       "  </tbody>\n",
       "</table>\n",
       "</div>"
      ],
      "text/plain": [
       "    Target Template  Target_Length  Template_Length  Contact_PPV  Contact_TP  \\\n",
       "0  d12asa_  d1yfsa2            328              237         4.65           2   \n",
       "1  d12asa_  d1eova2            328              354        22.99          20   \n",
       "2  d12asa_  d1b8aa2            328              336        22.22          20   \n",
       "3  d12asa_  d1l0wa3            328              357        20.00          17   \n",
       "4  d12asa_  d1z7ma1            328              312         1.27           1   \n",
       "\n",
       "   Contact_P  Contact_All  Neff  SeqID Label  \n",
       "0         43          101  2676  0.177   Fam  \n",
       "1         87          101  2676  0.223   Fam  \n",
       "2         90          101  2676  0.220   Fam  \n",
       "3         85          101  2676  0.235   Fam  \n",
       "4         79          101  2676  0.211   Fam  "
      ]
     },
     "execution_count": 2,
     "metadata": {},
     "output_type": "execute_result"
    }
   ],
   "source": [
    "data = pd.read_csv('../data/Data_3DSig.txt', sep=' ')\n",
    "data.dropna(axis='index', how='any', inplace=True)\n",
    "split = pd.read_csv('../data/Data_Split.txt', sep=' ', header=None)\n",
    "split.columns = ['Protein', 'Split']\n",
    "data.head()"
   ]
  },
  {
   "cell_type": "markdown",
   "metadata": {},
   "source": [
    "# Classification a la Saulo"
   ]
  },
  {
   "cell_type": "code",
   "execution_count": 3,
   "metadata": {},
   "outputs": [],
   "source": [
    "family_targets = split[split['Split']=='FAMILY']['Protein']\n",
    "family_data = data[(data['Target'].isin(family_targets)) & (data['Template'].isin(family_targets))].copy()"
   ]
  },
  {
   "cell_type": "code",
   "execution_count": 4,
   "metadata": {},
   "outputs": [],
   "source": [
    "family_data.loc[:,'Family'] = pd.get_dummies(family_data[['Label']]).loc[:, 'Label_Fam']"
   ]
  },
  {
   "cell_type": "code",
   "execution_count": 5,
   "metadata": {},
   "outputs": [
    {
     "name": "stderr",
     "output_type": "stream",
     "text": [
      "/home/fergus/anaconda3/lib/python3.6/site-packages/matplotlib/figure.py:418: UserWarning: matplotlib is currently using a non-GUI backend, so cannot show the figure\n",
      "  \"matplotlib is currently using a non-GUI backend, \"\n"
     ]
    },
    {
     "data": {
      "text/html": [
       "<div>\n",
       "<style scoped>\n",
       "    .dataframe tbody tr th:only-of-type {\n",
       "        vertical-align: middle;\n",
       "    }\n",
       "\n",
       "    .dataframe tbody tr th {\n",
       "        vertical-align: top;\n",
       "    }\n",
       "\n",
       "    .dataframe thead th {\n",
       "        text-align: right;\n",
       "    }\n",
       "</style>\n",
       "<table border=\"1\" class=\"dataframe\">\n",
       "  <thead>\n",
       "    <tr style=\"text-align: right;\">\n",
       "      <th></th>\n",
       "      <th>Target</th>\n",
       "      <th>Template</th>\n",
       "      <th>Target_Length</th>\n",
       "      <th>Template_Length</th>\n",
       "      <th>Contact_PPV</th>\n",
       "      <th>Contact_TP</th>\n",
       "      <th>Contact_P</th>\n",
       "      <th>Contact_All</th>\n",
       "      <th>Neff</th>\n",
       "      <th>SeqID</th>\n",
       "      <th>Label</th>\n",
       "      <th>Family</th>\n",
       "    </tr>\n",
       "  </thead>\n",
       "  <tbody>\n",
       "    <tr>\n",
       "      <th>0</th>\n",
       "      <td>d12asa_</td>\n",
       "      <td>d1yfsa2</td>\n",
       "      <td>328</td>\n",
       "      <td>237</td>\n",
       "      <td>4.65</td>\n",
       "      <td>2</td>\n",
       "      <td>43</td>\n",
       "      <td>101</td>\n",
       "      <td>2676</td>\n",
       "      <td>0.177</td>\n",
       "      <td>Fam</td>\n",
       "      <td>1</td>\n",
       "    </tr>\n",
       "    <tr>\n",
       "      <th>1</th>\n",
       "      <td>d12asa_</td>\n",
       "      <td>d1eova2</td>\n",
       "      <td>328</td>\n",
       "      <td>354</td>\n",
       "      <td>22.99</td>\n",
       "      <td>20</td>\n",
       "      <td>87</td>\n",
       "      <td>101</td>\n",
       "      <td>2676</td>\n",
       "      <td>0.223</td>\n",
       "      <td>Fam</td>\n",
       "      <td>1</td>\n",
       "    </tr>\n",
       "    <tr>\n",
       "      <th>2</th>\n",
       "      <td>d12asa_</td>\n",
       "      <td>d1b8aa2</td>\n",
       "      <td>328</td>\n",
       "      <td>336</td>\n",
       "      <td>22.22</td>\n",
       "      <td>20</td>\n",
       "      <td>90</td>\n",
       "      <td>101</td>\n",
       "      <td>2676</td>\n",
       "      <td>0.220</td>\n",
       "      <td>Fam</td>\n",
       "      <td>1</td>\n",
       "    </tr>\n",
       "    <tr>\n",
       "      <th>3</th>\n",
       "      <td>d12asa_</td>\n",
       "      <td>d1l0wa3</td>\n",
       "      <td>328</td>\n",
       "      <td>357</td>\n",
       "      <td>20.00</td>\n",
       "      <td>17</td>\n",
       "      <td>85</td>\n",
       "      <td>101</td>\n",
       "      <td>2676</td>\n",
       "      <td>0.235</td>\n",
       "      <td>Fam</td>\n",
       "      <td>1</td>\n",
       "    </tr>\n",
       "    <tr>\n",
       "      <th>4</th>\n",
       "      <td>d12asa_</td>\n",
       "      <td>d1z7ma1</td>\n",
       "      <td>328</td>\n",
       "      <td>312</td>\n",
       "      <td>1.27</td>\n",
       "      <td>1</td>\n",
       "      <td>79</td>\n",
       "      <td>101</td>\n",
       "      <td>2676</td>\n",
       "      <td>0.211</td>\n",
       "      <td>Fam</td>\n",
       "      <td>1</td>\n",
       "    </tr>\n",
       "  </tbody>\n",
       "</table>\n",
       "</div>"
      ],
      "text/plain": [
       "    Target Template  Target_Length  Template_Length  Contact_PPV  Contact_TP  \\\n",
       "0  d12asa_  d1yfsa2            328              237         4.65           2   \n",
       "1  d12asa_  d1eova2            328              354        22.99          20   \n",
       "2  d12asa_  d1b8aa2            328              336        22.22          20   \n",
       "3  d12asa_  d1l0wa3            328              357        20.00          17   \n",
       "4  d12asa_  d1z7ma1            328              312         1.27           1   \n",
       "\n",
       "   Contact_P  Contact_All  Neff  SeqID Label  Family  \n",
       "0         43          101  2676  0.177   Fam       1  \n",
       "1         87          101  2676  0.223   Fam       1  \n",
       "2         90          101  2676  0.220   Fam       1  \n",
       "3         85          101  2676  0.235   Fam       1  \n",
       "4         79          101  2676  0.211   Fam       1  "
      ]
     },
     "execution_count": 5,
     "metadata": {},
     "output_type": "execute_result"
    },
    {
     "data": {
      "image/png": "[encoded data removed]",
      "text/plain": [
       "<matplotlib.figure.Figure at 0x7f12a56a8a20>"
      ]
     },
     "metadata": {},
     "output_type": "display_data"
    }
   ],
   "source": [
    "fig, (ax1, ax2) = plt.subplots(1, 2, figsize=(12, 5))\n",
    "sns.countplot(data=family_data, x='Family',ax=ax1)\n",
    "sns.countplot(data=family_data, x='Label', ax=ax2)\n",
    "fig.show()\n",
    "family_data.head()"
   ]
  },
  {
   "cell_type": "code",
   "execution_count": 6,
   "metadata": {},
   "outputs": [
    {
     "name": "stdout",
     "output_type": "stream",
     "text": [
      "5690\n"
     ]
    }
   ],
   "source": [
    "pairs = [(target, template) for target, template in zip(family_data['Target'].values, family_data['Template'].values)]\n",
    "print(len(pairs) - len(list(set(pairs))))"
   ]
  },
  {
   "cell_type": "code",
   "execution_count": 7,
   "metadata": {},
   "outputs": [
    {
     "data": {
      "text/plain": [
       "<matplotlib.axes._subplots.AxesSubplot at 0x7f12a56a87f0>"
      ]
     },
     "execution_count": 7,
     "metadata": {},
     "output_type": "execute_result"
    },
    {
     "data": {
      "image/png": "[encoded data removed]",
      "text/plain": [
       "<matplotlib.figure.Figure at 0x7f12a55ac780>"
      ]
     },
     "metadata": {},
     "output_type": "display_data"
    }
   ],
   "source": [
    "# duplicate rows, wat do?\n",
    "df = family_data.drop_duplicates(subset=['Template', 'Target'], keep=False, inplace=False)\n",
    "sns.countplot(data=df, x='Label')"
   ]
  },
  {
   "cell_type": "code",
   "execution_count": 8,
   "metadata": {},
   "outputs": [],
   "source": [
    "X = df[df['Label'].isin(['Fam', 'Random'])]"
   ]
  },
  {
   "cell_type": "code",
   "execution_count": 9,
   "metadata": {},
   "outputs": [],
   "source": [
    "# Randomly select a subset of targets to play with\n",
    "\n",
    "np.random.seed(42)\n",
    "n_samples = 5000\n",
    "sample = np.random.choice(X['Target'].unique(), size=n_samples, replace=False)\n",
    "n_train = int(0.8*n_samples)\n",
    "n_valid = int(0.1*n_samples)\n",
    "train = sample[:n_train]\n",
    "validation = sample[n_train:n_train+n_valid]\n",
    "test = sample[n_train+n_valid:]"
   ]
  },
  {
   "cell_type": "code",
   "execution_count": 10,
   "metadata": {},
   "outputs": [
    {
     "data": {
      "text/html": [
       "<div>\n",
       "<style scoped>\n",
       "    .dataframe tbody tr th:only-of-type {\n",
       "        vertical-align: middle;\n",
       "    }\n",
       "\n",
       "    .dataframe tbody tr th {\n",
       "        vertical-align: top;\n",
       "    }\n",
       "\n",
       "    .dataframe thead th {\n",
       "        text-align: right;\n",
       "    }\n",
       "</style>\n",
       "<table border=\"1\" class=\"dataframe\">\n",
       "  <thead>\n",
       "    <tr style=\"text-align: right;\">\n",
       "      <th></th>\n",
       "      <th>Target</th>\n",
       "      <th>Template</th>\n",
       "      <th>Target_Length</th>\n",
       "      <th>Template_Length</th>\n",
       "      <th>Contact_PPV</th>\n",
       "      <th>Contact_TP</th>\n",
       "      <th>Contact_P</th>\n",
       "      <th>Contact_All</th>\n",
       "      <th>Neff</th>\n",
       "      <th>SeqID</th>\n",
       "      <th>Label</th>\n",
       "      <th>Family</th>\n",
       "    </tr>\n",
       "  </thead>\n",
       "  <tbody>\n",
       "    <tr>\n",
       "      <th>0</th>\n",
       "      <td>d12asa_</td>\n",
       "      <td>d1yfsa2</td>\n",
       "      <td>328</td>\n",
       "      <td>237</td>\n",
       "      <td>4.65</td>\n",
       "      <td>2</td>\n",
       "      <td>43</td>\n",
       "      <td>101</td>\n",
       "      <td>2676</td>\n",
       "      <td>0.177</td>\n",
       "      <td>Fam</td>\n",
       "      <td>1</td>\n",
       "    </tr>\n",
       "    <tr>\n",
       "      <th>1</th>\n",
       "      <td>d12asa_</td>\n",
       "      <td>d1eova2</td>\n",
       "      <td>328</td>\n",
       "      <td>354</td>\n",
       "      <td>22.99</td>\n",
       "      <td>20</td>\n",
       "      <td>87</td>\n",
       "      <td>101</td>\n",
       "      <td>2676</td>\n",
       "      <td>0.223</td>\n",
       "      <td>Fam</td>\n",
       "      <td>1</td>\n",
       "    </tr>\n",
       "    <tr>\n",
       "      <th>2</th>\n",
       "      <td>d12asa_</td>\n",
       "      <td>d1b8aa2</td>\n",
       "      <td>328</td>\n",
       "      <td>336</td>\n",
       "      <td>22.22</td>\n",
       "      <td>20</td>\n",
       "      <td>90</td>\n",
       "      <td>101</td>\n",
       "      <td>2676</td>\n",
       "      <td>0.220</td>\n",
       "      <td>Fam</td>\n",
       "      <td>1</td>\n",
       "    </tr>\n",
       "    <tr>\n",
       "      <th>3</th>\n",
       "      <td>d12asa_</td>\n",
       "      <td>d1l0wa3</td>\n",
       "      <td>328</td>\n",
       "      <td>357</td>\n",
       "      <td>20.00</td>\n",
       "      <td>17</td>\n",
       "      <td>85</td>\n",
       "      <td>101</td>\n",
       "      <td>2676</td>\n",
       "      <td>0.235</td>\n",
       "      <td>Fam</td>\n",
       "      <td>1</td>\n",
       "    </tr>\n",
       "    <tr>\n",
       "      <th>4</th>\n",
       "      <td>d12asa_</td>\n",
       "      <td>d1z7ma1</td>\n",
       "      <td>328</td>\n",
       "      <td>312</td>\n",
       "      <td>1.27</td>\n",
       "      <td>1</td>\n",
       "      <td>79</td>\n",
       "      <td>101</td>\n",
       "      <td>2676</td>\n",
       "      <td>0.211</td>\n",
       "      <td>Fam</td>\n",
       "      <td>1</td>\n",
       "    </tr>\n",
       "  </tbody>\n",
       "</table>\n",
       "</div>"
      ],
      "text/plain": [
       "    Target Template  Target_Length  Template_Length  Contact_PPV  Contact_TP  \\\n",
       "0  d12asa_  d1yfsa2            328              237         4.65           2   \n",
       "1  d12asa_  d1eova2            328              354        22.99          20   \n",
       "2  d12asa_  d1b8aa2            328              336        22.22          20   \n",
       "3  d12asa_  d1l0wa3            328              357        20.00          17   \n",
       "4  d12asa_  d1z7ma1            328              312         1.27           1   \n",
       "\n",
       "   Contact_P  Contact_All  Neff  SeqID Label  Family  \n",
       "0         43          101  2676  0.177   Fam       1  \n",
       "1         87          101  2676  0.223   Fam       1  \n",
       "2         90          101  2676  0.220   Fam       1  \n",
       "3         85          101  2676  0.235   Fam       1  \n",
       "4         79          101  2676  0.211   Fam       1  "
      ]
     },
     "execution_count": 10,
     "metadata": {},
     "output_type": "execute_result"
    }
   ],
   "source": [
    "X.head()"
   ]
  },
  {
   "cell_type": "code",
   "execution_count": 11,
   "metadata": {},
   "outputs": [],
   "source": [
    "feature_names = ['Target_Length', 'Template_Length', 'Contact_PPV', 'Contact_TP', 'Contact_P', 'Contact_All', 'Neff', 'SeqID']"
   ]
  },
  {
   "cell_type": "code",
   "execution_count": 12,
   "metadata": {},
   "outputs": [],
   "source": [
    "X_train = X[X['Target'].isin(train)][feature_names].values\n",
    "X_validation = X[X['Target'].isin(validation)][feature_names].values\n",
    "X_test = X[X['Target'].isin(test)][feature_names].values\n",
    "\n",
    "y_train = X[X['Target'].isin(train)]['Label'].replace({'Random': 0, 'Fam': 1}).values.ravel()\n",
    "y_validation = X[X['Target'].isin(validation)]['Label'].replace({'Random': 0, 'Fam': 1}).values.ravel()\n",
    "y_test = X[X['Target'].isin(test)]['Label'].replace({'Random': 0, 'Fam': 1}).values.ravel()"
   ]
  },
  {
   "cell_type": "code",
   "execution_count": 13,
   "metadata": {},
   "outputs": [],
   "source": [
    "from sklearn.linear_model import LogisticRegression\n",
    "\n",
    "clf = LogisticRegression(C=1e5, random_state=42)"
   ]
  },
  {
   "cell_type": "code",
   "execution_count": null,
   "metadata": {},
   "outputs": [],
   "source": []
  },
  {
   "cell_type": "code",
   "execution_count": 14,
   "metadata": {},
   "outputs": [
    {
     "data": {
      "text/plain": [
       "LogisticRegression(C=100000.0, class_weight=None, dual=False,\n",
       "          fit_intercept=True, intercept_scaling=1, max_iter=100,\n",
       "          multi_class='ovr', n_jobs=1, penalty='l2', random_state=42,\n",
       "          solver='liblinear', tol=0.0001, verbose=0, warm_start=False)"
      ]
     },
     "execution_count": 14,
     "metadata": {},
     "output_type": "execute_result"
    }
   ],
   "source": [
    "clf.fit(X_train, y_train)"
   ]
  },
  {
   "cell_type": "code",
   "execution_count": 16,
   "metadata": {},
   "outputs": [
    {
     "data": {
      "text/plain": [
       "(0.8387854482956173, 0.856755382268181)"
      ]
     },
     "execution_count": 16,
     "metadata": {},
     "output_type": "execute_result"
    }
   ],
   "source": [
    "clf.score(X_validation, y_validation)"
   ]
  },
  {
   "cell_type": "code",
   "execution_count": 3,
   "metadata": {
    "collapsed": true
   },
   "outputs": [],
   "source": [
    "data.loc[data.isna().any(axis='columns')]\n",
    "data.dropna(axis='index', inplace=True)"
   ]
  },
  {
   "cell_type": "code",
   "execution_count": 4,
   "metadata": {},
   "outputs": [
    {
     "data": {
      "text/plain": [
       "((10251,), (10698,))"
      ]
     },
     "execution_count": 4,
     "metadata": {},
     "output_type": "execute_result"
    }
   ],
   "source": [
    "family_targets = data[(data['Label'] == 'Fam')]['Target'].unique()\n",
    "superfamily_targets = data[(data['Label'] == 'SFam')]['Target'].unique()\n",
    "family_targets.shape, superfamily_targets.shape"
   ]
  },
  {
   "cell_type": "markdown",
   "metadata": {},
   "source": [
    "### Scrublord-tier classification: family vs. random\n",
    "Can we predict, given the features, whether the target and template protein are from the same protein family?"
   ]
  },
  {
   "cell_type": "code",
   "execution_count": 6,
   "metadata": {},
   "outputs": [
    {
     "data": {
      "text/plain": [
       "<matplotlib.axes._subplots.AxesSubplot at 0x7f186e587470>"
      ]
     },
     "execution_count": 6,
     "metadata": {},
     "output_type": "execute_result"
    },
    {
     "data": {
      "image/png": "[encoded data removed]",
      "text/plain": [
       "<matplotlib.figure.Figure at 0x7f186e5c4f28>"
      ]
     },
     "metadata": {},
     "output_type": "display_data"
    }
   ],
   "source": [
    "family_data = data[data['Target'].isin(family_targets) & data['Label'].isin(['Fam', 'Random'])]\n",
    "sns.countplot(data=family_data, x='Label')"
   ]
  },
  {
   "cell_type": "markdown",
   "metadata": {},
   "source": [
    "Data is balanced so don't need to worry about any imbalance.\n",
    "\n",
    "Important that we decide train/validation/test sets before we go any further. We adopt a 80/10/10 split. Note below that we sample a subset (5000) of the total number of proteins (10251). Also note that we're splitting *by target* rather than simply splitting the examples. This ensures that all examples for a target are in the same set.\n",
    "\n",
    "Also, for reproducibility, we set the seed for our random number generator."
   ]
  },
  {
   "cell_type": "code",
   "execution_count": 7,
   "metadata": {
    "collapsed": true
   },
   "outputs": [],
   "source": [
    "np.random.seed(42)\n",
    "n_samples = 5000\n",
    "sample = np.random.choice(family_targets, size=n_samples, replace=False)\n",
    "n_train = int(0.8*n_samples)\n",
    "n_valid = int(0.1*n_samples)\n",
    "train = sample[:n_train]\n",
    "validation = sample[n_train:n_train+n_valid]\n",
    "test = sample[n_train+n_valid:]"
   ]
  },
  {
   "cell_type": "code",
   "execution_count": 8,
   "metadata": {},
   "outputs": [
    {
     "data": {
      "text/plain": [
       "((154180, 11), (19368, 11), (19444, 11))"
      ]
     },
     "execution_count": 8,
     "metadata": {},
     "output_type": "execute_result"
    }
   ],
   "source": [
    "family_data[family_data['Target'].isin(train)].shape, family_data[family_data['Target'].isin(validation)].shape, family_data[family_data['Target'].isin(test)].shape"
   ]
  },
  {
   "cell_type": "markdown",
   "metadata": {},
   "source": [
    "Construct placeholder variables for our split.\n",
    "\n",
    "Binarise the label."
   ]
  },
  {
   "cell_type": "code",
   "execution_count": 9,
   "metadata": {
    "collapsed": true
   },
   "outputs": [],
   "source": [
    "X_train = family_data[family_data['Target'].isin(train)][feature_names].values\n",
    "X_validation = family_data[family_data['Target'].isin(validation)][feature_names].values\n",
    "X_test = family_data[family_data['Target'].isin(test)][feature_names].values\n",
    "\n",
    "y_train = family_data[family_data['Target'].isin(train)]['Label'].replace({'Random': 0, 'Fam': 1}).values.ravel()\n",
    "y_validation = family_data[family_data['Target'].isin(validation)]['Label'].replace({'Random': 0, 'Fam': 1}).values.ravel()\n",
    "y_test = family_data[family_data['Target'].isin(test)]['Label'].replace({'Random': 0, 'Fam': 1}).values.ravel()"
   ]
  },
  {
   "cell_type": "markdown",
   "metadata": {},
   "source": [
    "Train a random forest classifier. Note how we're explicitly setting the random seed. Parameters somewhat arbitrary and in general not too sensitive for RF."
   ]
  },
  {
   "cell_type": "code",
   "execution_count": 10,
   "metadata": {},
   "outputs": [
    {
     "data": {
      "text/plain": [
       "RandomForestClassifier(bootstrap=True, class_weight=None, criterion='gini',\n",
       "            max_depth=None, max_features='sqrt', max_leaf_nodes=None,\n",
       "            min_impurity_decrease=0.0, min_impurity_split=None,\n",
       "            min_samples_leaf=1, min_samples_split=2,\n",
       "            min_weight_fraction_leaf=0.0, n_estimators=500, n_jobs=-1,\n",
       "            oob_score=True, random_state=42, verbose=0, warm_start=False)"
      ]
     },
     "execution_count": 10,
     "metadata": {},
     "output_type": "execute_result"
    }
   ],
   "source": [
    "from sklearn.ensemble import RandomForestClassifier\n",
    "\n",
    "rf = RandomForestClassifier(n_estimators=500, n_jobs=-1, oob_score=True, max_features='sqrt', random_state=42)\n",
    "rf.fit(X_train, y_train)"
   ]
  },
  {
   "cell_type": "markdown",
   "metadata": {},
   "source": [
    "Prediction time!"
   ]
  },
  {
   "cell_type": "code",
   "execution_count": 11,
   "metadata": {
    "collapsed": true
   },
   "outputs": [],
   "source": [
    "y_pred = rf.predict(X_test)\n",
    "y_score_oob = [p[1] for p in rf.oob_decision_function_]\n",
    "y_pred_oob = [round(p) for p in y_score_oob]\n",
    "y_score_test = [p[1] for p in rf.predict_proba(X_test)]\n",
    "y_pred_validation = rf.predict(X_validation)\n",
    "y_score_validation = [p[1] for p in rf.predict_proba(X_validation)]"
   ]
  },
  {
   "cell_type": "markdown",
   "metadata": {},
   "source": [
    "How to asssess your performance on a classification task? Many possible answers and certainly not a single correct one. Here we consider ROC and precision-recall curves. Given not much class imbalance, curves tell similar stories, but not always the case.\n",
    "\n",
    "Note OOB performance. Do we expect this? Why might this be the case?"
   ]
  },
  {
   "cell_type": "code",
   "execution_count": 25,
   "metadata": {},
   "outputs": [],
   "source": [
    "from sklearn.metrics import auc, roc_curve, precision_recall_curve, average_precision_score\n",
    "\n",
    "# TODO move this and any other helper functions to a different file - FB\n",
    "def draw_roc_curve(y_true, y_score, ax=None, annot=True, **kwargs):\n",
    "    \n",
    "    if ax is None:\n",
    "        ax = plt.axes()\n",
    "        \n",
    "    fpr, tpr, _ = roc_curve(y_true, y_score)\n",
    "    \n",
    "    if ax is None:\n",
    "        ax = plt.axes()\n",
    "        \n",
    "    # If one isn't passed, create a label for the plot containing the AUC and, if passed, the name of the curve\n",
    "    if annot:\n",
    "        roc_auc = auc(fpr, tpr)\n",
    "        if 'label' in kwargs:\n",
    "            label = kwargs['label']\n",
    "        elif 'name' in kwargs:\n",
    "            name = kwargs['name']\n",
    "            label = f'{name} AUC = {roc_auc:.3f}'\n",
    "        else:\n",
    "            label = f'AUC = {roc_auc:.3f}'\n",
    "    else:\n",
    "        label=None\n",
    "    \n",
    "    ax.plot(fpr, tpr, label=label)\n",
    "    \n",
    "    return ax\n",
    "\n",
    "def draw_pr_curve(y_true, y_score, ax=None, annot=True, **kwargs):\n",
    "    \n",
    "    if ax is None:\n",
    "        ax = plt.axes()\n",
    "        \n",
    "    precision, recall, _ = precision_recall_curve(y_true, y_score)\n",
    "    \n",
    "    # If one isn't passed, create a label for the plot containing the average precision and, if passed, the name of the curve\n",
    "    # TODO add other metrics like F1 score - FB\n",
    "    if annot:\n",
    "        pr_score = average_precision_score(y_true, y_score)\n",
    "        if 'label' in kwargs:\n",
    "            label = kwargs['label']\n",
    "        elif 'name' in kwargs:\n",
    "            name = kwargs['name']\n",
    "            label = f'{name} average precision score = {pr_score:.3f}'\n",
    "        else:\n",
    "            label = f'Average precision score = = {pr_score:.3f}'\n",
    "    else:\n",
    "        label=None\n",
    "        \n",
    "    ax.step(recall, precision, label=label)"
   ]
  },
  {
   "cell_type": "code",
   "execution_count": 30,
   "metadata": {},
   "outputs": [
    {
     "data": {
      "text/plain": [
       "<matplotlib.legend.Legend at 0x7f186e0c8470>"
      ]
     },
     "execution_count": 30,
     "metadata": {},
     "output_type": "execute_result"
    },
    {
     "data": {
      "image/png": "[encoded data removed]",
      "text/plain": [
       "<matplotlib.figure.Figure at 0x7f18567ee0f0>"
      ]
     },
     "metadata": {},
     "output_type": "display_data"
    }
   ],
   "source": [
    "fig, (ax1, ax2) = plt.subplots(1, 2, figsize=(10, 5))\n",
    "\n",
    "draw_roc_curve(y_train, y_score_oob, name='OOB', ax=ax1)\n",
    "draw_roc_curve(y_validation, y_score_validation, name='Validation', ax=ax1)\n",
    "draw_roc_curve(y_test, y_score_test, name='Test', ax=ax1)\n",
    "\n",
    "draw_pr_curve(y_train, y_score_oob, name='OOB', ax=ax2)\n",
    "draw_pr_curve(y_validation, y_score_validation, name='Validation', ax=ax2)\n",
    "draw_pr_curve(y_test, y_score_test, name='Test', ax=ax2)\n",
    "\n",
    "ax1.plot([0, 1], [0, 1], 'k--', alpha=0.5)\n",
    "ax1.set_xlabel('False positive rate')\n",
    "ax1.set_ylabel('True positive rate')\n",
    "ax1.legend(loc='best')\n",
    "\n",
    "ax2.set_xlabel('Recall')\n",
    "ax2.set_ylabel('Precision')\n",
    "ax2.legend(loc='best')"
   ]
  },
  {
   "cell_type": "markdown",
   "metadata": {},
   "source": [
    "__Confusion matrix:__ Different way to visualise performance of our classifier. We see there aren't many false positives (bottom right) but quite a few false negatives (top right)."
   ]
  },
  {
   "cell_type": "code",
   "execution_count": 13,
   "metadata": {},
   "outputs": [
    {
     "data": {
      "text/plain": [
       "0.86047109648220532"
      ]
     },
     "execution_count": 13,
     "metadata": {},
     "output_type": "execute_result"
    },
    {
     "data": {
      "image/png": "[encoded data removed]",
      "text/plain": [
       "<matplotlib.figure.Figure at 0x7f58c8e0a390>"
      ]
     },
     "metadata": {},
     "output_type": "display_data"
    }
   ],
   "source": [
    "from sklearn.metrics import confusion_matrix\n",
    "\n",
    "cm = pd.DataFrame(confusion_matrix(y_test, y_pred)).T\n",
    "cm.rename({0: 'Random', 1: 'Fam'}, axis='index', inplace=True)\n",
    "cm.rename({0: 'Random', 1: 'Fam'}, axis='columns', inplace=True)\n",
    "fig, ax = plt.subplots(1, 1, figsize=(5, 5))\n",
    "sns.heatmap(cm, annot=True, fmt='g', cmap='Blues', square=True, linewidths=0.1, linecolor='k', cbar_kws={'shrink': 0.75}, ax=ax)\n",
    "ax.set_ylabel('Predicted class label')\n",
    "ax.set_xlabel('True class label')\n",
    "fig.tight_layout()\n",
    "rf.score(X_test, y_test)"
   ]
  },
  {
   "cell_type": "markdown",
   "metadata": {},
   "source": [
    "# Apprentice-tier classification: superfamily vs. random"
   ]
  },
  {
   "cell_type": "markdown",
   "metadata": {},
   "source": [
    "Now we move onto the problem of classifying whether a target and template are in the same superfamily."
   ]
  },
  {
   "cell_type": "code",
   "execution_count": 14,
   "metadata": {},
   "outputs": [
    {
     "name": "stderr",
     "output_type": "stream",
     "text": [
      "/homes/imrie/anaconda3/lib/python3.6/site-packages/seaborn/categorical.py:1460: FutureWarning: remove_na is deprecated and is a private function. Do not use.\n",
      "  stat_data = remove_na(group_data)\n"
     ]
    },
    {
     "data": {
      "text/plain": [
       "<matplotlib.axes._subplots.AxesSubplot at 0x7f58bcaa8470>"
      ]
     },
     "execution_count": 14,
     "metadata": {},
     "output_type": "execute_result"
    },
    {
     "data": {
      "image/png": "[encoded data removed]",
      "text/plain": [
       "<matplotlib.figure.Figure at 0x7f58ae4ecd68>"
      ]
     },
     "metadata": {},
     "output_type": "display_data"
    }
   ],
   "source": [
    "superfamily_data = data[data['Target'].isin(superfamily_targets) & data['Label'].isin(['SFam', 'Random'])]\n",
    "sns.countplot(data=superfamily_data, x='Label')"
   ]
  },
  {
   "cell_type": "markdown",
   "metadata": {},
   "source": [
    "You can see we have rougly the same number of negative examples, but many more positive examples. \n",
    "\n",
    "Class imbalance is a huge issue when training clasifiers. We choose to undersample superfamily data so that we have an even number of random and superfamily datapoints. "
   ]
  },
  {
   "cell_type": "code",
   "execution_count": 15,
   "metadata": {
    "collapsed": true
   },
   "outputs": [],
   "source": [
    "# Undersample 'SFam' data\n",
    "\n",
    "sfam_data_counts = superfamily_data['Label'].value_counts()"
   ]
  },
  {
   "cell_type": "code",
   "execution_count": 16,
   "metadata": {},
   "outputs": [
    {
     "name": "stderr",
     "output_type": "stream",
     "text": [
      "/homes/imrie/anaconda3/lib/python3.6/site-packages/pandas/core/frame.py:3697: SettingWithCopyWarning: \n",
      "A value is trying to be set on a copy of a slice from a DataFrame\n",
      "\n",
      "See the caveats in the documentation: http://pandas.pydata.org/pandas-docs/stable/indexing.html#indexing-view-versus-copy\n",
      "  errors=errors)\n"
     ]
    }
   ],
   "source": [
    "sfam_idx = superfamily_data[superfamily_data['Label'] == 'SFam'].index.values\n",
    "np.random.seed(42)\n",
    "#n_to_drop = 534040 - 211592 # Huh? FI\n",
    "n_to_drop = max(sfam_data_counts.values) - min(sfam_data_counts.values) # Prefer this implementation\n",
    "to_drop = np.random.choice(sfam_idx, size=n_to_drop, replace=False)\n",
    "superfamily_data.drop(to_drop, axis='index', inplace=True)"
   ]
  },
  {
   "cell_type": "code",
   "execution_count": 17,
   "metadata": {},
   "outputs": [
    {
     "name": "stderr",
     "output_type": "stream",
     "text": [
      "/homes/imrie/anaconda3/lib/python3.6/site-packages/seaborn/categorical.py:1460: FutureWarning: remove_na is deprecated and is a private function. Do not use.\n",
      "  stat_data = remove_na(group_data)\n"
     ]
    },
    {
     "data": {
      "text/plain": [
       "<matplotlib.axes._subplots.AxesSubplot at 0x7f5896ee0588>"
      ]
     },
     "execution_count": 17,
     "metadata": {},
     "output_type": "execute_result"
    },
    {
     "data": {
      "image/png": "[encoded data removed]",
      "text/plain": [
       "<matplotlib.figure.Figure at 0x7f58c8d43048>"
      ]
     },
     "metadata": {},
     "output_type": "display_data"
    }
   ],
   "source": [
    "sns.countplot(data=superfamily_data, x='Label')"
   ]
  },
  {
   "cell_type": "markdown",
   "metadata": {},
   "source": [
    "Same as before: (i) split data, (ii) train classifier, (iii) test predictions."
   ]
  },
  {
   "cell_type": "code",
   "execution_count": 18,
   "metadata": {
    "collapsed": true
   },
   "outputs": [],
   "source": [
    "np.random.seed(42)\n",
    "n_samples = 5000\n",
    "sample = np.random.choice(superfamily_targets, size=n_samples, replace=False)\n",
    "n_train = int(0.8*n_samples)\n",
    "n_valid = int(0.1*n_samples)\n",
    "train = sample[:n_train]\n",
    "validation = sample[n_train:n_train+n_valid]\n",
    "test = sample[n_train+n_valid:]"
   ]
  },
  {
   "cell_type": "code",
   "execution_count": 19,
   "metadata": {},
   "outputs": [
    {
     "data": {
      "text/plain": [
       "((158215, 11), (20456, 11), (19313, 11))"
      ]
     },
     "execution_count": 19,
     "metadata": {},
     "output_type": "execute_result"
    }
   ],
   "source": [
    "superfamily_data[superfamily_data['Target'].isin(train)].shape, superfamily_data[superfamily_data['Target'].isin(validation)].shape, superfamily_data[superfamily_data['Target'].isin(test)].shape"
   ]
  },
  {
   "cell_type": "code",
   "execution_count": 20,
   "metadata": {
    "collapsed": true
   },
   "outputs": [],
   "source": [
    "X_train = superfamily_data[superfamily_data['Target'].isin(train)][feature_names].values\n",
    "X_validation = superfamily_data[superfamily_data['Target'].isin(validation)][feature_names].values\n",
    "X_test = superfamily_data[superfamily_data['Target'].isin(test)][feature_names].values\n",
    "\n",
    "y_train = superfamily_data[superfamily_data['Target'].isin(train)]['Label'].replace({'Random': 0, 'SFam': 1}).values.ravel()\n",
    "y_validation = superfamily_data[superfamily_data['Target'].isin(validation)]['Label'].replace({'Random': 0, 'SFam': 1}).values.ravel()\n",
    "y_test = superfamily_data[superfamily_data['Target'].isin(test)]['Label'].replace({'Random': 0, 'SFam': 1}).values.ravel()"
   ]
  },
  {
   "cell_type": "code",
   "execution_count": 21,
   "metadata": {
    "collapsed": true
   },
   "outputs": [],
   "source": [
    "rf = RandomForestClassifier(n_estimators=500, n_jobs=-1, oob_score=True, max_features='sqrt', random_state=42)\n",
    "rf.fit(X_train, y_train)\n",
    "\n",
    "y_pred = rf.predict(X_test)\n",
    "y_score_oob = [p[1] for p in rf.oob_decision_function_]\n",
    "y_pred_oob = [round(p) for p in y_score_oob]\n",
    "y_score_test = [p[1] for p in rf.predict_proba(X_test)]\n",
    "y_pred_validation = rf.predict(X_validation)\n",
    "y_score_validation = [p[1] for p in rf.predict_proba(X_validation)]"
   ]
  },
  {
   "cell_type": "code",
   "execution_count": 22,
   "metadata": {},
   "outputs": [
    {
     "data": {
      "text/plain": [
       "<matplotlib.legend.Legend at 0x7f58ae890da0>"
      ]
     },
     "execution_count": 22,
     "metadata": {},
     "output_type": "execute_result"
    },
    {
     "data": {
      "image/png": "[encoded data removed]",
      "text/plain": [
       "<matplotlib.figure.Figure at 0x7f58ae4da7f0>"
      ]
     },
     "metadata": {},
     "output_type": "display_data"
    }
   ],
   "source": [
    "fig, (ax1, ax2) = plt.subplots(1, 2, figsize=(10, 5))\n",
    "\n",
    "fpr, tpr, _ = roc_curve(y_train, y_score_oob)\n",
    "roc_auc = auc(fpr, tpr)\n",
    "ax1.plot(fpr, tpr, label=f'OOB AUC = {roc_auc:.3f}')\n",
    "\n",
    "precision, recall, _ = precision_recall_curve(y_train, y_score_oob)\n",
    "pr_score = average_precision_score(y_train, y_score_oob)\n",
    "ax2.step(recall, precision, label=f'OOB Average precision = {pr_score:.3f}')\n",
    "\n",
    "fpr, tpr, _ = roc_curve(y_validation, y_score_validation)\n",
    "roc_auc = auc(fpr, tpr)\n",
    "ax1.plot(fpr, tpr, label=f'Validation AUC = {roc_auc:.3f}')\n",
    "\n",
    "precision, recall, _ = precision_recall_curve(y_validation, y_score_validation)\n",
    "pr_score = average_precision_score(y_validation, y_score_validation)\n",
    "ax2.step(recall, precision, label=f'Validation Average precision = {pr_score:.3f}')\n",
    "\n",
    "fpr, tpr, _ = roc_curve(y_test, y_score_test)\n",
    "roc_auc = auc(fpr, tpr)\n",
    "ax1.plot(fpr, tpr, label=f'Test AUC = {roc_auc:.3f}')\n",
    "\n",
    "precision, recall, _ = precision_recall_curve(y_test, y_score_test)\n",
    "pr_score = average_precision_score(y_test, y_score_test)\n",
    "ax2.step(recall, precision,  label=f'Test Average precision = {pr_score:.3f}')\n",
    "\n",
    "ax1.plot([0, 1], [0, 1], 'k--', alpha=0.5)\n",
    "ax1.set_xlabel('False positive rate')\n",
    "ax1.set_ylabel('True positive rate')\n",
    "ax1.legend()\n",
    "\n",
    "ax2.set_xlabel('Recall')\n",
    "ax2.set_ylabel('Precision')\n",
    "ax2.legend()"
   ]
  },
  {
   "cell_type": "markdown",
   "metadata": {},
   "source": [
    "Classifier now isn't as good but still exhibits fairly appreciable predictive power.\n",
    "\n",
    "We have the same issue as before begarding false negatives, with limited false positives.\n",
    "\n",
    "As expected given how we split this and trained, limited difference between the validation and test set."
   ]
  },
  {
   "cell_type": "code",
   "execution_count": 23,
   "metadata": {},
   "outputs": [
    {
     "data": {
      "text/plain": [
       "0.75987485334376226"
      ]
     },
     "execution_count": 23,
     "metadata": {},
     "output_type": "execute_result"
    },
    {
     "data": {
      "image/png": "[encoded data removed]",
      "text/plain": [
       "<matplotlib.figure.Figure at 0x7f5896e2a668>"
      ]
     },
     "metadata": {},
     "output_type": "display_data"
    }
   ],
   "source": [
    "cm = pd.DataFrame(confusion_matrix(y_validation, y_pred_validation)).T\n",
    "cm.rename({0: 'Random', 1: 'SFam'}, axis='index', inplace=True)\n",
    "cm.rename({0: 'Random', 1: 'SFam'}, axis='columns', inplace=True)\n",
    "fig, ax = plt.subplots(1, 1, figsize=(5, 5))\n",
    "sns.heatmap(cm, annot=True, fmt='g', cmap='Blues', square=True, linewidths=0.1, linecolor='k', vmin=0, cbar_kws={'shrink': 0.75}, ax=ax)\n",
    "ax.set_ylabel('Predicted class label')\n",
    "ax.set_xlabel('True class label')\n",
    "fig.tight_layout()\n",
    "rf.score(X_validation, y_validation)"
   ]
  },
  {
   "cell_type": "code",
   "execution_count": 24,
   "metadata": {},
   "outputs": [
    {
     "data": {
      "text/plain": [
       "0.77833583596541189"
      ]
     },
     "execution_count": 24,
     "metadata": {},
     "output_type": "execute_result"
    },
    {
     "data": {
      "image/png": "[encoded data removed]",
      "text/plain": [
       "<matplotlib.figure.Figure at 0x7f5896f6fb00>"
      ]
     },
     "metadata": {},
     "output_type": "display_data"
    }
   ],
   "source": [
    "cm = pd.DataFrame(confusion_matrix(y_test, y_pred)).T\n",
    "cm.rename({0: 'Random', 1: 'SFam'}, axis='index', inplace=True)\n",
    "cm.rename({0: 'Random', 1: 'SFam'}, axis='columns', inplace=True)\n",
    "fig, ax = plt.subplots(1, 1, figsize=(5, 5))\n",
    "sns.heatmap(cm, annot=True, fmt='g', cmap='Blues', square=True, linewidths=0.1, linecolor='k', vmin=0, cbar_kws={'shrink': 0.75}, ax=ax)\n",
    "ax.set_ylabel('Predicted class label')\n",
    "ax.set_xlabel('True class label')\n",
    "fig.tight_layout()\n",
    "rf.score(X_test, y_test)"
   ]
  },
  {
   "cell_type": "markdown",
   "metadata": {},
   "source": [
    "# Grouped k-fold CV using sklearn"
   ]
  },
  {
   "cell_type": "code",
   "execution_count": 25,
   "metadata": {
    "collapsed": true
   },
   "outputs": [],
   "source": [
    "from sklearn.model_selection import GroupKFold\n",
    "from sklearn.model_selection import cross_validate\n",
    "\n",
    "family_data = data[data['Target'].isin(family_targets) & data['Label'].isin(['Fam', 'Random'])]\n",
    "\n",
    "feature_names = ['Target_Length', 'Template_Length', 'Contact_PPV', 'Contact_TP', 'Contact_P', 'Contact_All', 'Neff', 'SeqID']\n",
    "np.random.seed(42)\n",
    "n_samples = 1000\n",
    "sample = np.random.choice(family_targets, size=n_samples, replace=False)\n",
    "n_train = int(0.8*n_samples)\n",
    "n_valid = int(0.1*n_samples)\n",
    "train = sample[:n_train]\n",
    "validation = sample[n_train:n_train+n_valid]\n",
    "test = sample[n_train+n_valid:]\n",
    "\n",
    "groups = family_data[family_data['Target'].isin(train)]['Target'].values\n",
    "\n",
    "X_train = family_data[family_data['Target'].isin(train)][feature_names].values\n",
    "X_validation = family_data[family_data['Target'].isin(validation)][feature_names].values\n",
    "X_test = family_data[family_data['Target'].isin(test)][feature_names].values\n",
    "\n",
    "y_train = family_data[family_data['Target'].isin(train)]['Label'].replace({'Random': 0, 'Fam': 1}).values.ravel()\n",
    "y_validation = family_data[family_data['Target'].isin(validation)]['Label'].replace({'Random': 0, 'Fam': 1}).values.ravel()\n",
    "y_test = family_data[family_data['Target'].isin(test)]['Label'].replace({'Random': 0, 'Fam': 1}).values.ravel()"
   ]
  },
  {
   "cell_type": "code",
   "execution_count": 50,
   "metadata": {},
   "outputs": [],
   "source": [
    "from sklearn import svm\n",
    "from sklearn.linear_model import LogisticRegression\n",
    "from sklearn.neural_network import MLPClassifier\n",
    "\n",
    "#clf = svm.SVC(kernel='linear', C=1, random_state=42)\n",
    "#clf = RandomForestClassifier(n_estimators=500, max_features='sqrt', random_state=42)\n",
    "clf = LogisticRegression(C=1e5, random_state=42)"
   ]
  },
  {
   "cell_type": "code",
   "execution_count": 57,
   "metadata": {},
   "outputs": [
    {
     "name": "stdout",
     "output_type": "stream",
     "text": [
      "LR unscaled:  [ 0.90122184  0.91290733  0.85685427]\n"
     ]
    }
   ],
   "source": [
    "scores = cross_validate(clf, X_train, y_train, scoring='roc_auc', cv=GroupKFold(n_splits=3).split(X_train, y_train, groups), return_train_score=False, n_jobs=-1)\n",
    "print(\"LR unscaled: \", scores['test_score'])"
   ]
  },
  {
   "cell_type": "code",
   "execution_count": 58,
   "metadata": {},
   "outputs": [
    {
     "name": "stdout",
     "output_type": "stream",
     "text": [
      "LR scaled:  [ 0.92293701  0.91758914  0.90138679]\n"
     ]
    }
   ],
   "source": [
    "from sklearn.preprocessing import MinMaxScaler\n",
    "X_train_scaled = MinMaxScaler().fit_transform(X_train)\n",
    "scores = cross_validate(clf, X_train_scaled, y_train, scoring='roc_auc', cv=GroupKFold(n_splits=3).split(X_train_scaled, y_train, groups), return_train_score=False, n_jobs=-1)\n",
    "print(\"LR scaled: \", scores['test_score'])"
   ]
  },
  {
   "cell_type": "code",
   "execution_count": 59,
   "metadata": {},
   "outputs": [
    {
     "name": "stdout",
     "output_type": "stream",
     "text": [
      "RF unscaled:  [ 0.93008719  0.93010402  0.91690146]\n"
     ]
    }
   ],
   "source": [
    "clf = RandomForestClassifier(n_estimators=500, max_features='sqrt', random_state=42)\n",
    "scores = cross_validate(clf, X_train, y_train, scoring='roc_auc', cv=GroupKFold(n_splits=3).split(X_train, y_train, groups), return_train_score=False, n_jobs=-1)\n",
    "print(\"RF unscaled: \", scores['test_score'])"
   ]
  },
  {
   "cell_type": "code",
   "execution_count": null,
   "metadata": {
    "collapsed": true
   },
   "outputs": [],
   "source": [
    "X_train_scaled = MinMaxScaler().fit_transform(X_train)\n",
    "scores = cross_validate(clf, X_train_scaled, y_train, scoring='roc_auc', cv=GroupKFold(n_splits=3).split(X_train_scaled, y_train, groups), return_train_score=False, n_jobs=-1)\n",
    "print(\"LR scaled: \", scores['test_score'])"
   ]
  },
  {
   "cell_type": "code",
   "execution_count": null,
   "metadata": {
    "collapsed": true
   },
   "outputs": [],
   "source": []
  }
 ],
 "metadata": {
  "kernelspec": {
   "display_name": "Python 3",
   "language": "python",
   "name": "python3"
  },
  "language_info": {
   "codemirror_mode": {
    "name": "ipython",
    "version": 3
   },
   "file_extension": ".py",
   "mimetype": "text/x-python",
   "name": "python",
   "nbconvert_exporter": "python",
   "pygments_lexer": "ipython3",
   "version": "3.6.3"
  }
 },
 "nbformat": 4,
 "nbformat_minor": 2
}
